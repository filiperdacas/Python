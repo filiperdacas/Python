{
  "nbformat": 4,
  "nbformat_minor": 0,
  "metadata": {
    "colab": {
      "provenance": [],
      "authorship_tag": "ABX9TyPE6xfUmZKqVpA395zamPlc",
      "include_colab_link": true
    },
    "kernelspec": {
      "name": "python3",
      "display_name": "Python 3"
    },
    "language_info": {
      "name": "python"
    }
  },
  "cells": [
    {
      "cell_type": "markdown",
      "metadata": {
        "id": "view-in-github",
        "colab_type": "text"
      },
      "source": [
        "<a href=\"https://colab.research.google.com/github/filiperdacas/Python/blob/main/ex1_lei_ohm.ipynb\" target=\"_parent\"><img src=\"https://colab.research.google.com/assets/colab-badge.svg\" alt=\"Open In Colab\"/></a>"
      ]
    },
    {
      "cell_type": "code",
      "execution_count": 10,
      "metadata": {
        "colab": {
          "base_uri": "https://localhost:8080/"
        },
        "id": "Xz5UAyvKoQO2",
        "outputId": "dfed72ed-577a-4cf1-f7ed-8e98219ad30d"
      },
      "outputs": [
        {
          "output_type": "stream",
          "name": "stdout",
          "text": [
            "informe a tensão:220\n",
            "informe a corrente:10\n",
            "a resistência é de : 22.0 ohms\n"
          ]
        }
      ],
      "source": [
        "# A lei de ohm define que a resistência(R) de um condutor é obtida por meio da divisão da tensão aplicada(V) dividida pela intensidade da corrente elétrica(A). Dessa forma, a partir de uma tensão e corrente, digitadas pelo usuário, calcule e mostre o valor da resistência.\n",
        "v = 0.0\n",
        "a = 0.0\n",
        "r = 0.0\n",
        "v = float(input(\"informe a tensão:\"))\n",
        "a = float(input(\"informe a corrente:\"))\n",
        "r = v/a\n",
        "print(\"a resistência é de : %2.1f\" %r ,\"ohms\")"
      ]
    }
  ]
}