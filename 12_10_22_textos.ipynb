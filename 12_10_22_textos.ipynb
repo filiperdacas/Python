{
  "nbformat": 4,
  "nbformat_minor": 0,
  "metadata": {
    "colab": {
      "provenance": [],
      "authorship_tag": "ABX9TyPau4FgIaZQX2jJGnFdwZZm",
      "include_colab_link": true
    },
    "kernelspec": {
      "name": "python3",
      "display_name": "Python 3"
    },
    "language_info": {
      "name": "python"
    }
  },
  "cells": [
    {
      "cell_type": "markdown",
      "metadata": {
        "id": "view-in-github",
        "colab_type": "text"
      },
      "source": [
        "<a href=\"https://colab.research.google.com/github/filiperdacas/Python/blob/main/12_10_22_textos.ipynb\" target=\"_parent\"><img src=\"https://colab.research.google.com/assets/colab-badge.svg\" alt=\"Open In Colab\"/></a>"
      ]
    },
    {
      "cell_type": "code",
      "execution_count": 6,
      "metadata": {
        "colab": {
          "base_uri": "https://localhost:8080/"
        },
        "id": "_vW2DMouLIQm",
        "outputId": "57cd18bf-79d0-4f06-f7a9-b968d9da8f4a"
      },
      "outputs": [
        {
          "output_type": "stream",
          "name": "stdout",
          "text": [
            "meu nome é Filipe!\n",
            "False\n",
            "True\n",
            "False\n",
            "True\n"
          ]
        }
      ],
      "source": [
        "#concatenação de strings/textos\n",
        "print('meu nome é ' + 'Filipe!')\n",
        "\n",
        "#verificar se tem o texto 'meu nome é' dentro da string 'Filipe' ons: é case sensitive\n",
        "print('meu nome é' in 'Filipe')\n",
        "\n",
        "#verificar se tem o texto 'Fi' dentro da string 'Filipe'\n",
        "print('Fi' in 'Filipe')\n",
        "\n",
        "#verificar se tem o texto 'f' dentro da string 'Filipe' nesse caso a resposta é falso pq f minúsculo é diferente\n",
        "print('f' in 'Filipe')\n",
        "\n",
        "#exemplo\n",
        "print('Filipe' in 'Filipe é meu professor!')\n",
        "\n"
      ]
    }
  ]
}