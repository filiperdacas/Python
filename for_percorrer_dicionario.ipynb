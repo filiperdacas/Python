{
  "nbformat": 4,
  "nbformat_minor": 0,
  "metadata": {
    "colab": {
      "provenance": [],
      "authorship_tag": "ABX9TyOTqI+oPFc7ZTlJoYj5mn5k",
      "include_colab_link": true
    },
    "kernelspec": {
      "name": "python3",
      "display_name": "Python 3"
    },
    "language_info": {
      "name": "python"
    }
  },
  "cells": [
    {
      "cell_type": "markdown",
      "metadata": {
        "id": "view-in-github",
        "colab_type": "text"
      },
      "source": [
        "<a href=\"https://colab.research.google.com/github/filiperdacas/Python/blob/main/for_percorrer_dicionario.ipynb\" target=\"_parent\"><img src=\"https://colab.research.google.com/assets/colab-badge.svg\" alt=\"Open In Colab\"/></a>"
      ]
    },
    {
      "cell_type": "code",
      "execution_count": 3,
      "metadata": {
        "colab": {
          "base_uri": "https://localhost:8080/"
        },
        "id": "MmxzpiPseFcu",
        "outputId": "37b68477-4cf6-463d-fee6-0f1ebe345ad4"
      },
      "outputs": [
        {
          "output_type": "stream",
          "name": "stdout",
          "text": [
            "zero 0\n",
            "um 1\n",
            "dois 2\n",
            "três 3\n",
            "quatro 4\n"
          ]
        }
      ],
      "source": [
        "numero = {'zero':0,'um':1,'dois':2, 'três':3,'quatro':4}\n",
        "\n",
        "for chave in numero:\n",
        "  print(chave, numero[chave])"
      ]
    }
  ]
}