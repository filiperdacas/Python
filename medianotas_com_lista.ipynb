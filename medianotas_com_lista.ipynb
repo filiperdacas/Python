{
  "nbformat": 4,
  "nbformat_minor": 0,
  "metadata": {
    "colab": {
      "provenance": [],
      "authorship_tag": "ABX9TyP0uJAhRfunhFNGQv43/SR+",
      "include_colab_link": true
    },
    "kernelspec": {
      "name": "python3",
      "display_name": "Python 3"
    },
    "language_info": {
      "name": "python"
    }
  },
  "cells": [
    {
      "cell_type": "markdown",
      "metadata": {
        "id": "view-in-github",
        "colab_type": "text"
      },
      "source": [
        "<a href=\"https://colab.research.google.com/github/filiperdacas/Python/blob/main/medianotas_com_lista.ipynb\" target=\"_parent\"><img src=\"https://colab.research.google.com/assets/colab-badge.svg\" alt=\"Open In Colab\"/></a>"
      ]
    },
    {
      "cell_type": "code",
      "execution_count": 3,
      "metadata": {
        "colab": {
          "base_uri": "https://localhost:8080/"
        },
        "id": "pPv1QePMbSeQ",
        "outputId": "9f242e3e-2fc7-4ad9-f463-6b212f422da9"
      },
      "outputs": [
        {
          "output_type": "stream",
          "name": "stdout",
          "text": [
            "Digite a nota:7\n",
            "Digite a nota:7\n",
            "Digite a nota:7\n",
            "Digite a nota:7\n",
            "Digite a nota:1\n",
            "a média das notas é 5.8\n"
          ]
        }
      ],
      "source": [
        "notas=[]\n",
        "i=0\n",
        "soma=0.0\n",
        "\n",
        "while i<5:\n",
        "  notas.append(float(input(\"Digite a nota:\")))\n",
        "  soma = soma + notas[i]\n",
        "  i = i + 1\n",
        "\n",
        "media = soma/5\n",
        "\n",
        "print(\"a média das notas é %3.1f\" %media)\n"
      ]
    }
  ]
}