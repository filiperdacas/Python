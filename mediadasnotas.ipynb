{
  "nbformat": 4,
  "nbformat_minor": 0,
  "metadata": {
    "colab": {
      "provenance": [],
      "authorship_tag": "ABX9TyNCYvqEsVpODyfpWnNqaoHT",
      "include_colab_link": true
    },
    "kernelspec": {
      "name": "python3",
      "display_name": "Python 3"
    },
    "language_info": {
      "name": "python"
    }
  },
  "cells": [
    {
      "cell_type": "markdown",
      "metadata": {
        "id": "view-in-github",
        "colab_type": "text"
      },
      "source": [
        "<a href=\"https://colab.research.google.com/github/filiperdacas/Python/blob/main/mediadasnotas.ipynb\" target=\"_parent\"><img src=\"https://colab.research.google.com/assets/colab-badge.svg\" alt=\"Open In Colab\"/></a>"
      ]
    },
    {
      "cell_type": "code",
      "execution_count": 4,
      "metadata": {
        "colab": {
          "base_uri": "https://localhost:8080/"
        },
        "id": "x_EBs4GyZ0cF",
        "outputId": "020b5189-2a58-4cac-bcdf-bec8724eb59e"
      },
      "outputs": [
        {
          "output_type": "stream",
          "name": "stdout",
          "text": [
            "Informe a nota:10\n",
            "Informe a nota:1\n",
            "Informe a nota:10\n",
            "Informe a nota:10\n",
            "A média é 7.75\n"
          ]
        }
      ],
      "source": [
        "notas = [0,0,0,0]\n",
        "soma = 0\n",
        "media = 0\n",
        "i = 0\n",
        "while i<=3:\n",
        "  notas[i] = float(input('Informe a nota:'))\n",
        "  soma = soma + notas[i]\n",
        "  i= i + 1\n",
        "media = soma/4\n",
        "print(\"A média é %3.2f\" % media)"
      ]
    }
  ]
}