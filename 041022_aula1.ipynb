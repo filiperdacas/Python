{
  "nbformat": 4,
  "nbformat_minor": 0,
  "metadata": {
    "colab": {
      "provenance": [],
      "authorship_tag": "ABX9TyMP76I/nCbtNmuCenAQNDXA",
      "include_colab_link": true
    },
    "kernelspec": {
      "name": "python3",
      "display_name": "Python 3"
    },
    "language_info": {
      "name": "python"
    }
  },
  "cells": [
    {
      "cell_type": "markdown",
      "metadata": {
        "id": "view-in-github",
        "colab_type": "text"
      },
      "source": [
        "<a href=\"https://colab.research.google.com/github/filiperdacas/Python/blob/main/041022_aula1.ipynb\" target=\"_parent\"><img src=\"https://colab.research.google.com/assets/colab-badge.svg\" alt=\"Open In Colab\"/></a>"
      ]
    },
    {
      "cell_type": "code",
      "execution_count": 1,
      "metadata": {
        "colab": {
          "base_uri": "https://localhost:8080/"
        },
        "id": "DzTadsO-Wcx3",
        "outputId": "e2f62a65-b86e-4ac7-ea41-fb4c1906719b"
      },
      "outputs": [
        {
          "output_type": "stream",
          "name": "stdout",
          "text": [
            "o valor de x é:  10\n"
          ]
        }
      ],
      "source": [
        "x = 10\n",
        "print(\"o valor de x é: \",x)"
      ]
    },
    {
      "cell_type": "code",
      "source": [
        "print(\"hello world\")"
      ],
      "metadata": {
        "colab": {
          "base_uri": "https://localhost:8080/"
        },
        "id": "KEkpiqjHXp9N",
        "outputId": "5f5626ca-f360-494f-8a9e-4f95521cfa77"
      },
      "execution_count": 3,
      "outputs": [
        {
          "output_type": "stream",
          "name": "stdout",
          "text": [
            "hello world\n"
          ]
        }
      ]
    },
    {
      "cell_type": "code",
      "source": [
        "x, y = 10, 20\n",
        "print(x)\n",
        "print(y)"
      ],
      "metadata": {
        "colab": {
          "base_uri": "https://localhost:8080/"
        },
        "id": "HjJ4XVTtYUZm",
        "outputId": "0d2d4769-6775-439a-e9d2-ef62d6535265"
      },
      "execution_count": 4,
      "outputs": [
        {
          "output_type": "stream",
          "name": "stdout",
          "text": [
            "10\n",
            "20\n"
          ]
        }
      ]
    },
    {
      "cell_type": "code",
      "source": [
        "x = y = 10"
      ],
      "metadata": {
        "id": "Rg3x_2sRYstl"
      },
      "execution_count": 5,
      "outputs": []
    },
    {
      "cell_type": "code",
      "source": [
        "num1 = int(input(\"digite um valor:\"))\n",
        "num2 = int(input(\"digite outro valor\"))\n",
        "soma = num1 + num2\n",
        "print(\"A soma é \",soma)"
      ],
      "metadata": {
        "colab": {
          "base_uri": "https://localhost:8080/"
        },
        "id": "rRux-E7SZDxt",
        "outputId": "1106646a-3a7d-407b-a4ce-14d3c3633f52"
      },
      "execution_count": 7,
      "outputs": [
        {
          "output_type": "stream",
          "name": "stdout",
          "text": [
            "digite um valor:5\n",
            "digite outro valor5\n",
            "A soma é  10\n"
          ]
        }
      ]
    },
    {
      "cell_type": "code",
      "source": [
        "import time\n",
        "\n",
        "nome = input(\"digite o seu nome:\")\n",
        "anoNascimento = int(input(\"digite o ano de nascimento:\"))\n",
        "anoAtual = int(time.strftime(\"%Y\"))\n",
        "idade = anoAtual - anoNascimento\n",
        "\n",
        "maiorIdade = \"\"\n",
        "if idade < 18 :\n",
        "  maiorIdade = \"menor de idade\"\n",
        "else:\n",
        "  maiorIdade = \"maior de idade\"\n",
        "print(nome,\"a sua idade é \", idade, \"vocé é\",maiorIdade)"
      ],
      "metadata": {
        "colab": {
          "base_uri": "https://localhost:8080/"
        },
        "id": "ODLWlSgbafQd",
        "outputId": "f5914ce6-fc3f-4beb-8b8c-a426589bc698"
      },
      "execution_count": 8,
      "outputs": [
        {
          "output_type": "stream",
          "name": "stdout",
          "text": [
            "digite o seu nome:Filipe\n",
            "digite o ano de nascimento:1984\n",
            "Filipe a sua idade é  38 vocé é maior de idade\n"
          ]
        }
      ]
    },
    {
      "cell_type": "code",
      "source": [
        "numero = int(input(\"digite um número:\"))\n",
        "if numero == 1:\n",
        "  print(\"um\")\n",
        "elif numero == 2:\n",
        "  print(\"dois\")\n",
        "elif numero == 3:\n",
        "  print(\"três\")\n",
        "else:\n",
        "  print(\"número qualquer diferente de 1,2,3\")"
      ],
      "metadata": {
        "colab": {
          "base_uri": "https://localhost:8080/"
        },
        "id": "37jOchl-hcSs",
        "outputId": "560f6410-7d03-49f3-e5c4-74ec5c386aaf"
      },
      "execution_count": 9,
      "outputs": [
        {
          "output_type": "stream",
          "name": "stdout",
          "text": [
            "digite um número:3\n",
            "três\n"
          ]
        }
      ]
    },
    {
      "cell_type": "code",
      "source": [
        "x = 0\n",
        "while x <= 10 :\n",
        "  print(x)\n",
        "  x = x + 2"
      ],
      "metadata": {
        "colab": {
          "base_uri": "https://localhost:8080/"
        },
        "id": "YZOJmIPtitSr",
        "outputId": "2daed5b4-93eb-4462-ee99-f5bf889bccae"
      },
      "execution_count": 10,
      "outputs": [
        {
          "output_type": "stream",
          "name": "stdout",
          "text": [
            "0\n",
            "2\n",
            "4\n",
            "6\n",
            "8\n",
            "10\n"
          ]
        }
      ]
    },
    {
      "cell_type": "code",
      "source": [
        "valores = [5,10,20,30]\n",
        "print(valores[2])\n"
      ],
      "metadata": {
        "colab": {
          "base_uri": "https://localhost:8080/"
        },
        "id": "tfLPD8cXkTAr",
        "outputId": "e96df7cc-ab3d-45fc-9be3-1d778d97a311"
      },
      "execution_count": 11,
      "outputs": [
        {
          "output_type": "stream",
          "name": "stdout",
          "text": [
            "20\n"
          ]
        }
      ]
    },
    {
      "cell_type": "code",
      "source": [
        "notas = [0,0,0]\n",
        "i = 0\n",
        "soma = 0 \n",
        "while i < 3 :\n",
        "  notas[i] = int(input(\"digite a nota\"))\n",
        "  soma = soma + notas[i]\n",
        "  i = i + 1\n",
        "\n",
        "print(\"a média é \", (soma/3))"
      ],
      "metadata": {
        "colab": {
          "base_uri": "https://localhost:8080/"
        },
        "id": "Ap9k_cBqplAz",
        "outputId": "54a7e05b-63f2-4e08-deda-e4e03778a71f"
      },
      "execution_count": 13,
      "outputs": [
        {
          "output_type": "stream",
          "name": "stdout",
          "text": [
            "digite a nota10\n",
            "digite a nota9\n",
            "digite a nota8\n",
            "a média é  9.0\n"
          ]
        }
      ]
    }
  ]
}