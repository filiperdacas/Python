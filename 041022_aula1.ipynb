{
  "nbformat": 4,
  "nbformat_minor": 0,
  "metadata": {
    "colab": {
      "provenance": [],
      "authorship_tag": "ABX9TyOcpKFj3+U7NqwquAsBEz0O",
      "include_colab_link": true
    },
    "kernelspec": {
      "name": "python3",
      "display_name": "Python 3"
    },
    "language_info": {
      "name": "python"
    }
  },
  "cells": [
    {
      "cell_type": "markdown",
      "metadata": {
        "id": "view-in-github",
        "colab_type": "text"
      },
      "source": [
        "<a href=\"https://colab.research.google.com/github/filiperdacas/Python/blob/main/041022_aula1.ipynb\" target=\"_parent\"><img src=\"https://colab.research.google.com/assets/colab-badge.svg\" alt=\"Open In Colab\"/></a>"
      ]
    },
    {
      "cell_type": "code",
      "execution_count": 1,
      "metadata": {
        "colab": {
          "base_uri": "https://localhost:8080/"
        },
        "id": "DzTadsO-Wcx3",
        "outputId": "e2f62a65-b86e-4ac7-ea41-fb4c1906719b"
      },
      "outputs": [
        {
          "output_type": "stream",
          "name": "stdout",
          "text": [
            "o valor de x é:  10\n"
          ]
        }
      ],
      "source": [
        "x = 10\n",
        "print(\"o valor de x é: \",x)"
      ]
    },
    {
      "cell_type": "code",
      "source": [
        "print(\"hello world\")"
      ],
      "metadata": {
        "colab": {
          "base_uri": "https://localhost:8080/"
        },
        "id": "KEkpiqjHXp9N",
        "outputId": "5f5626ca-f360-494f-8a9e-4f95521cfa77"
      },
      "execution_count": 3,
      "outputs": [
        {
          "output_type": "stream",
          "name": "stdout",
          "text": [
            "hello world\n"
          ]
        }
      ]
    },
    {
      "cell_type": "code",
      "source": [
        "x, y = 10, 20\n",
        "print(x)\n",
        "print(y)"
      ],
      "metadata": {
        "colab": {
          "base_uri": "https://localhost:8080/"
        },
        "id": "HjJ4XVTtYUZm",
        "outputId": "0d2d4769-6775-439a-e9d2-ef62d6535265"
      },
      "execution_count": 4,
      "outputs": [
        {
          "output_type": "stream",
          "name": "stdout",
          "text": [
            "10\n",
            "20\n"
          ]
        }
      ]
    },
    {
      "cell_type": "code",
      "source": [
        "x = y = 10"
      ],
      "metadata": {
        "id": "Rg3x_2sRYstl"
      },
      "execution_count": 5,
      "outputs": []
    },
    {
      "cell_type": "code",
      "source": [
        "num1 = int(input(\"digite um valor:\"))\n",
        "num2 = int(input(\"digite outro valor\"))\n",
        "soma = num1 + num2\n",
        "print(\"A soma é \",soma)"
      ],
      "metadata": {
        "colab": {
          "base_uri": "https://localhost:8080/"
        },
        "id": "rRux-E7SZDxt",
        "outputId": "1106646a-3a7d-407b-a4ce-14d3c3633f52"
      },
      "execution_count": 7,
      "outputs": [
        {
          "output_type": "stream",
          "name": "stdout",
          "text": [
            "digite um valor:5\n",
            "digite outro valor5\n",
            "A soma é  10\n"
          ]
        }
      ]
    },
    {
      "cell_type": "code",
      "source": [
        "import time\n",
        "\n",
        "nome = input(\"digite o seu nome:\")\n",
        "anoNascimento = int(input(\"digite o ano de nascimento:\"))\n",
        "anoAtual = int(time.strftime(\"%Y\"))\n",
        "idade = anoAtual - anoNascimento\n",
        "\n",
        "maiorIdade = \"\"\n",
        "if idade < 18 :\n",
        "  maiorIdade = \"menor de idade\"\n",
        "else:\n",
        "  maiorIdade = \"maior de idade\"\n",
        "print(nome,\"a sua idade é \", idade, \"vocé é\",maiorIdade)"
      ],
      "metadata": {
        "colab": {
          "base_uri": "https://localhost:8080/"
        },
        "id": "ODLWlSgbafQd",
        "outputId": "f5914ce6-fc3f-4beb-8b8c-a426589bc698"
      },
      "execution_count": 8,
      "outputs": [
        {
          "output_type": "stream",
          "name": "stdout",
          "text": [
            "digite o seu nome:Filipe\n",
            "digite o ano de nascimento:1984\n",
            "Filipe a sua idade é  38 vocé é maior de idade\n"
          ]
        }
      ]
    }
  ]
}